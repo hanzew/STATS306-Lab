{
 "cells": [
  {
   "cell_type": "markdown",
   "metadata": {},
   "source": [
    "# Lab 1\n",
    "This lab will focus on the functionality of ggplot and review the basics of R covered in last week's lecture."
   ]
  },
  {
   "cell_type": "markdown",
   "metadata": {},
   "source": [
    "## Review"
   ]
  },
  {
   "cell_type": "markdown",
   "metadata": {},
   "source": [
    "### 1) Environment setup\n",
    "Let's first make sure that you have the programming environment setup correctly. If you installed Jupyter notebook through Anaconda, you should be able to type on the command line:\n",
    "```\n",
    "conda --version\n",
    "```\n",
    "If you installed Jupyter notebook directly, then typing this on the command line should open up Jupyter notebook:\n",
    "```\n",
    "jupyter notebook\n",
    "```\n",
    "If you installed jupyter notebook and the R kernel correctly you should be able to create a new R notebook by going to File > New Notebook > R. Then in the first cell you should be able to run:\n",
    "```\n",
    "library(ggplot2)\n",
    "```\n",
    "I'll stop here to make sure everyone has their environment setup and working."
   ]
  },
  {
   "cell_type": "markdown",
   "metadata": {},
   "source": [
    "### 2) Installing new packages with Anaconda\n",
    "If you want to install a new package with Anaconda, the easiest way to do this is by searching for the package on Anaconda Cloud site (or googling 'anaconda packagename'). Then run the installation code given on your command line. For example, if you wanted to install tidyverse for R (https://anaconda.org/r/r-tidyverse), after finding the linked page here, you would run the code given on your command line to install:\n",
    "```\n",
    "conda install -c r r-tidyverse\n",
    "```"
   ]
  },
  {
   "cell_type": "markdown",
   "metadata": {},
   "source": [
    "Now if I open up jupyter notebook, I would find that I would be able to load in this package:\n",
    "```\n",
    "library(tidyverse)\n",
    "```"
   ]
  },
  {
   "cell_type": "markdown",
   "metadata": {},
   "source": [
    "### 3) Typical Data Science Project\n",
    "![Data Science Lifecycle](DS_Lifecycle.png)\n",
    "1. **Import** - Bring the data into R\n",
    "2. **Tidy** - Clean the data up generally to have this format:\n",
    "    + Each column is a variable\n",
    "    + Each row is an observation\n",
    "3. **Transform** - Filtering data set down, create new variables, calculate summary statistics\n",
    "4. **Visualize** - Create plots to find interesting things about the data\n",
    "5. **Model** - Based on the visualizations you have created, the data will hint at the models to use (e.g. based on the scatter plot regression looks appropiate, based on the summary statistics classification could be relevant, etc.)\n",
    "6. **Communicate** - Using the findings from the previous steps, you will need to communicate what you have found (e.g. looking at the sales data from our mobile app, it looks like millenials are most likely to buy product A in the next quarter)\n",
    "    "
   ]
  },
  {
   "cell_type": "markdown",
   "metadata": {},
   "source": [
    "## Explore"
   ]
  },
  {
   "cell_type": "markdown",
   "metadata": {},
   "source": [
    "This week we will focus on the exercises as there was only one introduction lab last week."
   ]
  },
  {
   "cell_type": "markdown",
   "metadata": {},
   "source": [
    "## Exercises"
   ]
  },
  {
   "cell_type": "markdown",
   "metadata": {},
   "source": [
    "Start by loading in tidyverse package (really a collection of packages). All of these exercises are taken from the texbook Chapter 3 (R for Data Science)."
   ]
  },
  {
   "cell_type": "code",
   "execution_count": null,
   "metadata": {
    "collapsed": true
   },
   "outputs": [],
   "source": [
    "library(tidyverse)"
   ]
  },
  {
   "cell_type": "markdown",
   "metadata": {},
   "source": [
    "### Section 3.2"
   ]
  },
  {
   "cell_type": "code",
   "execution_count": null,
   "metadata": {
    "collapsed": true
   },
   "outputs": [],
   "source": [
    "# What happens when you run ggplot(data=mpg)? Why?"
   ]
  },
  {
   "cell_type": "code",
   "execution_count": null,
   "metadata": {
    "collapsed": true
   },
   "outputs": [],
   "source": [
    "# How many rows and columns are in the mpg data set?"
   ]
  },
  {
   "cell_type": "code",
   "execution_count": null,
   "metadata": {
    "collapsed": true
   },
   "outputs": [],
   "source": [
    "# What does the drv variable describe?"
   ]
  },
  {
   "cell_type": "code",
   "execution_count": null,
   "metadata": {
    "collapsed": true
   },
   "outputs": [],
   "source": [
    "# Make a scatterplot of hwy vs. cyl"
   ]
  },
  {
   "cell_type": "markdown",
   "metadata": {},
   "source": [
    "### Section 3.3"
   ]
  },
  {
   "cell_type": "code",
   "execution_count": null,
   "metadata": {
    "collapsed": true
   },
   "outputs": [],
   "source": [
    "# Why aren't the points here blue?\n",
    "ggplot(data = mpg) +\n",
    "geom_point(mapping = aes(x = displ, y = hwy, color = \"blue\"))"
   ]
  },
  {
   "cell_type": "code",
   "execution_count": null,
   "metadata": {
    "collapsed": true
   },
   "outputs": [],
   "source": [
    "# How does ggplot handle continuous vs discrete variables as aesthetics for size, shape, and color?"
   ]
  },
  {
   "cell_type": "code",
   "execution_count": null,
   "metadata": {
    "collapsed": true
   },
   "outputs": [],
   "source": [
    "# What happens when you map the same variable to different aesthetics?"
   ]
  },
  {
   "cell_type": "code",
   "execution_count": null,
   "metadata": {
    "collapsed": true
   },
   "outputs": [],
   "source": [
    "# What happens when you map an aethetic, like color, to something like \"color = displ < 5\"?"
   ]
  },
  {
   "cell_type": "markdown",
   "metadata": {},
   "source": [
    "### Section 3.5"
   ]
  },
  {
   "cell_type": "code",
   "execution_count": null,
   "metadata": {
    "collapsed": true
   },
   "outputs": [],
   "source": [
    "# What do the empty cells in plot with facet_grid(drv ~ cyl) mean? How do they relate to this plot?\n",
    "ggplot(data = mpg) +\n",
    "geom_point(mapping = aes(x = drv, y = cyl))"
   ]
  },
  {
   "cell_type": "code",
   "execution_count": null,
   "metadata": {
    "collapsed": true
   },
   "outputs": [],
   "source": [
    "# What plots does the following code make? What does . do?\n",
    "ggplot(data = mpg) +\n",
    "geom_point(mapping = aes(x = displ, y = hwy)) +\n",
    "facet_grid(drv ~ .)\n",
    "\n",
    "ggplot(data = mpg) +\n",
    "geom_point(mapping = aes(x = displ, y = hwy)) +\n",
    "facet_grid(. ~ cyl)"
   ]
  },
  {
   "cell_type": "code",
   "execution_count": null,
   "metadata": {
    "collapsed": true
   },
   "outputs": [],
   "source": [
    "#Read ?facet_wrap. What does nrow do? What does ncol do? What other options control the layout of the individual panels? Why doesn’t facet_grid() have nrow and ncol argument?"
   ]
  },
  {
   "cell_type": "markdown",
   "metadata": {},
   "source": [
    "### Section 3.6"
   ]
  },
  {
   "cell_type": "code",
   "execution_count": null,
   "metadata": {
    "collapsed": true
   },
   "outputs": [],
   "source": [
    "# What geom would you use to draw a line chart? A boxplot? A histogram? An area chart?"
   ]
  },
  {
   "cell_type": "code",
   "execution_count": null,
   "metadata": {
    "collapsed": true
   },
   "outputs": [],
   "source": [
    "# What does the se argument to geom_smooth() do?"
   ]
  },
  {
   "cell_type": "code",
   "execution_count": null,
   "metadata": {
    "collapsed": true
   },
   "outputs": [],
   "source": [
    "# Will these two graphs look different? Why/why not?\n",
    "ggplot(data = mpg, mapping = aes(x = displ, y = hwy)) +\n",
    "geom_point() +\n",
    "geom_smooth()\n",
    "\n",
    "ggplot() +\n",
    "geom_point(data = mpg, mapping = aes(x = displ, y = hwy)) +\n",
    "geom_smooth(data = mpg, mapping = aes(x = displ, y = hwy))"
   ]
  }
 ],
 "metadata": {
  "kernelspec": {
   "display_name": "R",
   "language": "R",
   "name": "ir"
  },
  "language_info": {
   "codemirror_mode": "r",
   "file_extension": ".r",
   "mimetype": "text/x-r-source",
   "name": "R",
   "pygments_lexer": "r",
   "version": "3.4.1"
  }
 },
 "nbformat": 4,
 "nbformat_minor": 2
}
